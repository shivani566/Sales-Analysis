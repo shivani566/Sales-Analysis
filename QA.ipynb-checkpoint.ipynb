{
 "cells": [
  {
   "cell_type": "code",
   "execution_count": 4,
   "id": "0b774c5e-a0d1-45aa-a29b-587c95e90afc",
   "metadata": {},
   "outputs": [],
   "source": [
    "#!pip install transformers torch"
   ]
  },
  {
   "cell_type": "code",
   "execution_count": 5,
   "id": "502e3b21-d416-4d31-b63d-7cfdbed9d87c",
   "metadata": {
    "scrolled": true
   },
   "outputs": [],
   "source": [
    "#!pip install sentence-transformers faiss-cpu\n"
   ]
  },
  {
   "cell_type": "code",
   "execution_count": null,
   "id": "b4970474-9bd8-4d03-910a-a06a8b3eda52",
   "metadata": {},
   "outputs": [
    {
     "name": "stderr",
     "output_type": "stream",
     "text": [
      "Device set to use cpu\n"
     ]
    },
    {
     "name": "stdout",
     "output_type": "stream",
     "text": [
      "💡 Supermarket Smart QA System\n",
      "Ask anything about the dataset insights.\n",
      "Type 'exit' to quit.\n",
      "\n"
     ]
    },
    {
     "name": "stdin",
     "output_type": "stream",
     "text": [
      "Ask a question:  on which time the sales is higher\n"
     ]
    },
    {
     "name": "stdout",
     "output_type": "stream",
     "text": [
      "🤖 Answer: Saturday\n",
      "\n"
     ]
    },
    {
     "name": "stdin",
     "output_type": "stream",
     "text": [
      "Ask a question:  What time of day has the most revenue\n"
     ]
    },
    {
     "name": "stdout",
     "output_type": "stream",
     "text": [
      "🤖 Answer: 19:00 hours\n",
      "\n"
     ]
    },
    {
     "name": "stdin",
     "output_type": "stream",
     "text": [
      "Ask a question:  Which branch sells the most?\n"
     ]
    },
    {
     "name": "stdout",
     "output_type": "stream",
     "text": [
      "🤖 Answer: Sorry, I don't have enough information on that.\n",
      "\n"
     ]
    }
   ],
   "source": [
    "from sentence_transformers import SentenceTransformer\n",
    "from transformers import pipeline\n",
    "import faiss\n",
    "import numpy as np\n",
    "\n",
    "# Load the .txt summary file\n",
    "with open(\"supermarket_dataset_summary_FIXED.txt\", \"r\", encoding=\"utf-8\") as f:\n",
    "    full_text = f.read()\n",
    "\n",
    "# Split the summary into chunks (1 line per chunk)\n",
    "chunks = [line.strip() for line in full_text.split('\\n') if line.strip()]\n",
    "\n",
    "# Load sentence transformer model\n",
    "embedder = SentenceTransformer('all-MiniLM-L6-v2')\n",
    "chunk_embeddings = embedder.encode(chunks, convert_to_tensor=False)\n",
    "chunk_embeddings = np.array(chunk_embeddings).astype(\"float32\")\n",
    "\n",
    "# Build FAISS index\n",
    "index = faiss.IndexFlatL2(chunk_embeddings.shape[1])\n",
    "index.add(chunk_embeddings)\n",
    "\n",
    "# Load Hugging Face QA pipeline\n",
    "qa_pipeline = pipeline(\"question-answering\", model=\"deepset/roberta-base-squad2\")\n",
    "\n",
    "# ✅ Start asking questions\n",
    "print(\"💡 Supermarket Smart QA System\")\n",
    "print(\"Ask anything about the dataset insights.\")\n",
    "print(\"Type 'exit' to quit.\\n\")\n",
    "\n",
    "while True:\n",
    "    question = input(\"Ask a question: \")\n",
    "\n",
    "    if question.lower() == \"exit\":\n",
    "        print(\"Thanks For Asking..\")\n",
    "        break\n",
    "\n",
    "    # Embed the user question\n",
    "    q_embedding = embedder.encode([question])\n",
    "\n",
    "    # Search top 3 matching chunks\n",
    "    D, I = index.search(np.array(q_embedding).astype(\"float32\"), k=3)\n",
    "    matched_chunks = [chunks[i] for i in I[0]]\n",
    "    combined_context = \" \".join(matched_chunks)\n",
    "\n",
    "    # Run QA on combined context\n",
    "    result = qa_pipeline(question=question, context=combined_context)\n",
    "\n",
    "    if result['score'] < 0.3 or result['answer'].strip() == \"\":\n",
    "        print(\"🤖 Answer: Sorry, I don't have enough information on that.\\n\")\n",
    "    else:\n",
    "        print(f\"🤖 Answer: {result['answer']}\\n\")\n",
    "\n"
   ]
  },
  {
   "cell_type": "code",
   "execution_count": null,
   "id": "59ffe2e0-0d36-475e-b9d1-094a68fc6b92",
   "metadata": {},
   "outputs": [],
   "source": []
  },
  {
   "cell_type": "code",
   "execution_count": null,
   "id": "55bd37ec-272e-472a-b6a6-b25358435614",
   "metadata": {},
   "outputs": [],
   "source": []
  }
 ],
 "metadata": {
  "kernelspec": {
   "display_name": "Python [conda env:base] *",
   "language": "python",
   "name": "conda-base-py"
  },
  "language_info": {
   "codemirror_mode": {
    "name": "ipython",
    "version": 3
   },
   "file_extension": ".py",
   "mimetype": "text/x-python",
   "name": "python",
   "nbconvert_exporter": "python",
   "pygments_lexer": "ipython3",
   "version": "3.12.7"
  }
 },
 "nbformat": 4,
 "nbformat_minor": 5
}
